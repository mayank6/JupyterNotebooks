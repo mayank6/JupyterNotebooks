{
 "cells": [
  {
   "cell_type": "code",
   "execution_count": 2,
   "metadata": {},
   "outputs": [
    {
     "name": "stdout",
     "output_type": "stream",
     "text": [
      "\n"
     ]
    }
   ],
   "source": [
    "'''\n",
    "What is object oriented programming ?\n",
    "-\n",
    "Pyhton is multiple paradigm langauge in which programs can follow procedural(direclty write code) as well as \n",
    "oops(structural where object must be made),Though evrything in python is object.\n",
    "\n",
    "Object oriented programming is the concept that, in programming, the objects that we’re manipulating are more \n",
    "important than the logic needed to manipulate those objects.\n",
    "ex- obj.get_song(\"Eminem\") is manipulated and we get prefered song we didnt take care about the logic behind it \n",
    "how albums or artists are searched behind the scenes.\n",
    "\n",
    "Object are (person,car,list,tuple,city etc)\n",
    "\n",
    "Class are blueprints and we can have multiple objects from same class.\n",
    "\n",
    "How you gonna (make linkedlist,trees and all) or (make person(name,age),Car(name,color) etc)\n",
    "\n",
    "These are the object defining like what the attribute we need in order to make objects like in \n",
    "    \n",
    "    -linkedlist-(one int or string value) and another a reference value to same type node or class.\n",
    "        ex-\n",
    "            1.)class Node(object):\n",
    "                def __init__(self,data=None,next=None):\n",
    "                    self.data=data\n",
    "                    self.next=next (here next have reference to another object of Node class)\n",
    "                    \n",
    "        **above have simple insitialization we need for object \n",
    "            --now for logics and manipulating like setting next of a Node or setting data or getting data\n",
    "                -There is way like doing (obj.data or obj.next = anotherNodeobject) but \n",
    "                    obj.get_data() and obj.set_data(data) are more readable and a good way of programming in \n",
    "                    long run these are called (setter and getter methods).\n",
    "                    \n",
    "            2.)class Node(object):\n",
    "                    def __init__(self, data=None, next=None):\n",
    "                        self.data = data\n",
    "                        self.next = next\n",
    "\n",
    "                    def get_data(self):\n",
    "                        return self.data\n",
    "\n",
    "                    def get_next(self):\n",
    "                        return self.next\n",
    "\n",
    "                    def set_next(self, new_next):\n",
    "                        self.next = new_next\n",
    "            \n",
    "            Same way tree and graphs problems are solved.\n",
    "Lets dive into it\n",
    "                \n",
    "'''\n",
    "print(\"\")"
   ]
  },
  {
   "cell_type": "code",
   "execution_count": 109,
   "metadata": {},
   "outputs": [
    {
     "name": "stdout",
     "output_type": "stream",
     "text": [
      "\n"
     ]
    }
   ],
   "source": [
    "\"\"\"\n",
    "An object has two characteristics:\n",
    "\n",
    "attributes\n",
    "behavior\n",
    "\n",
    "ex-\n",
    "Person is object\n",
    "1.name age weight height are attributes \n",
    "2.dancing playing walking are behavior\n",
    "\"\"\"\n",
    "\n",
    "print(\"\")"
   ]
  },
  {
   "cell_type": "code",
   "execution_count": 110,
   "metadata": {},
   "outputs": [
    {
     "name": "stdout",
     "output_type": "stream",
     "text": [
      "Employee Name:Rahul Salary:None Age:None of xyz organization\n",
      "Employee Name:Mayank Salary:None Age:21 of xyz organization\n",
      "Employee Name:Rohit Salary:25000 Age:25 of xyz organization\n",
      "3\n"
     ]
    }
   ],
   "source": [
    "class Employee:\n",
    "    \"\"\"This is documentation of the class\"\"\"\n",
    "    \n",
    "    #class varibale (shared to all instance object of Employee)\n",
    "    no_of_emp=0\n",
    "    \n",
    "    def __init__(self,emp_name=None,emp_age=None,emp_salary=None):\n",
    "        \"\"\"constructor with optional name,age,salary can be set later using setter methods.\"\"\"\n",
    "        self.name = emp_name\n",
    "        self.age = emp_age\n",
    "        self.salary = emp_salary\n",
    "        Employee.no_of_emp += 1\n",
    "    \n",
    "    #try code with or without __str__ and see what happens\n",
    "    def __str__(self):\n",
    "        \"\"\"while printing objects it give more sense\"\"\"\n",
    "        return (\"Employee Name:{} Salary:{} Age:{} of xyz organization\".format(self.name,self.salary,self.age))\n",
    "        \n",
    "emp1 = Employee(\"Rahul\")\n",
    "emp2 = Employee(\"Mayank\",\"21\")\n",
    "emp3 = Employee(\"Rohit\",\"25\",25000)\n",
    "print(emp1)\n",
    "print(emp2)\n",
    "print(emp3)\n",
    "print(Employee.no_of_emp)"
   ]
  },
  {
   "cell_type": "code",
   "execution_count": null,
   "metadata": {},
   "outputs": [],
   "source": [
    "\"\"\"\n",
    "What is self?\n",
    "    Self represents the instance of the class.By using the “self” keyword we can access the attributes and \n",
    "    methods of the class in python\n",
    "    ex-\n",
    "        emp1 = Employee()\n",
    "    Intenally in class it can be self.name = name or emp1.name=name\n",
    "\"\"\""
   ]
  },
  {
   "cell_type": "code",
   "execution_count": 27,
   "metadata": {},
   "outputs": [
    {
     "name": "stdout",
     "output_type": "stream",
     "text": [
      "Mayank\n",
      "Mayank Chauhan\n",
      "25000\n"
     ]
    },
    {
     "ename": "AttributeError",
     "evalue": "'Employee' object has no attribute '__amountToBeIncreased'",
     "output_type": "error",
     "traceback": [
      "\u001b[0;31m---------------------------------------------------------------------------\u001b[0m",
      "\u001b[0;31mAttributeError\u001b[0m                            Traceback (most recent call last)",
      "\u001b[0;32m<ipython-input-27-01b82c410248>\u001b[0m in \u001b[0;36m<module>\u001b[0;34m\u001b[0m\n\u001b[1;32m     44\u001b[0m \u001b[0mmayank\u001b[0m\u001b[0;34m.\u001b[0m\u001b[0msalaryincreaseByPerc\u001b[0m\u001b[0;34m(\u001b[0m\u001b[0;36m25\u001b[0m\u001b[0;34m)\u001b[0m\u001b[0;34m\u001b[0m\u001b[0;34m\u001b[0m\u001b[0m\n\u001b[1;32m     45\u001b[0m \u001b[0mprint\u001b[0m\u001b[0;34m(\u001b[0m\u001b[0mmayank\u001b[0m\u001b[0;34m.\u001b[0m\u001b[0mget_salary\u001b[0m\u001b[0;34m(\u001b[0m\u001b[0;34m)\u001b[0m\u001b[0;34m)\u001b[0m\u001b[0;34m\u001b[0m\u001b[0;34m\u001b[0m\u001b[0m\n\u001b[0;32m---> 46\u001b[0;31m \u001b[0mprint\u001b[0m\u001b[0;34m(\u001b[0m\u001b[0mmayank\u001b[0m\u001b[0;34m.\u001b[0m\u001b[0m__amountToBeIncreased\u001b[0m\u001b[0;34m(\u001b[0m\u001b[0;36m25\u001b[0m\u001b[0;34m)\u001b[0m\u001b[0;34m)\u001b[0m \u001b[0;31m#did you notice it was there. but it is due to Data hiding\u001b[0m\u001b[0;34m\u001b[0m\u001b[0;34m\u001b[0m\u001b[0m\n\u001b[0m",
      "\u001b[0;31mAttributeError\u001b[0m: 'Employee' object has no attribute '__amountToBeIncreased'"
     ]
    }
   ],
   "source": [
    "class Employee:\n",
    "    \"\"\"This is documentation of the class\"\"\"\n",
    "    \n",
    "    #class varibale (shared to all instance object of Employee)\n",
    "    no_of_emp = 0\n",
    "    \n",
    "    def __init__(self,emp_name=None,emp_age=None,emp_salary=None):\n",
    "        \"\"\"constructor with optional name,age,salary can be set later using setter methods.\"\"\"\n",
    "        self.name = emp_name\n",
    "        self.age = emp_age\n",
    "        self.salary = emp_salary\n",
    "        Employee.no_of_emp += 1\n",
    "    \n",
    "    def get_name(self):\n",
    "        \"\"\"getter for name\"\"\"\n",
    "        return self.name\n",
    "    \n",
    "    def set_name(self,name):\n",
    "        \"\"\"setter for name not return anything\"\"\"\n",
    "        self.name = name\n",
    "    \n",
    "    def get_salary(self):\n",
    "        \"\"\"Getter for salary\"\"\"\n",
    "        return self.salary\n",
    "    \n",
    "    def salaryincreaseByPerc(self,perc):\n",
    "        \"\"\"This function increase salary by perc\"\"\"\n",
    "        amount = int(self.__amountToBeIncreased(perc))\n",
    "        self.salary = amount + self.salary\n",
    "        \n",
    "    def __amountToBeIncreased(self,perc):\n",
    "        \"\"\"Private method that have no use for outer world. though it can be accese later we will see\"\"\"\n",
    "        return self.salary*(perc/100)\n",
    "    \n",
    "    #try code with or without __str__ and see what happens\n",
    "    def __str__(self):\n",
    "        \"\"\"while printing objects it give more sense\"\"\"\n",
    "        return (\"Employee Name:{} Salary:{} Age:{} of xyz organization\".format(self.name,self.salary,self.age))\n",
    "\n",
    "mayank = Employee(\"Mayank\",\"20\",20000)\n",
    "print(mayank.get_name())\n",
    "mayank.set_name(\"Mayank Chauhan\")\n",
    "print(mayank.get_name())\n",
    "mayank.salaryincreaseByPerc(25)\n",
    "print(mayank.get_salary())\n",
    "print(mayank.__amountToBeIncreased(25)) #did you notice it was there. but it is due to Data hiding"
   ]
  },
  {
   "cell_type": "code",
   "execution_count": 34,
   "metadata": {},
   "outputs": [
    {
     "name": "stdout",
     "output_type": "stream",
     "text": [
      "Mayank\n",
      "Mayank\n",
      "True\n",
      "False\n"
     ]
    }
   ],
   "source": [
    "\"\"\"Python Inbuilt Class Functions\n",
    "1\tgetattr(obj,name,default)\tIt is used to access the attribute of the object.\n",
    "2\tsetattr(obj, name,value)\tIt is used to set a particular value to the specific attribute of an object.\n",
    "3\tdelattr(obj, name)      \tIt is used to delete a specific attribute.\n",
    "4\thasattr(obj, name)      \tIt returns true if the object contains some specific attribute.\n",
    "\"\"\"\n",
    "print(getattr(mayank,\"name\",None))\n",
    "setattr(mayank,\"name\",\"Mayank\")\n",
    "print(mayank.get_name())\n",
    "print(hasattr(mayank,\"name\"))\n",
    "print(hasattr(mayank,\"address\"))"
   ]
  },
  {
   "cell_type": "code",
   "execution_count": 44,
   "metadata": {},
   "outputs": [
    {
     "name": "stdout",
     "output_type": "stream",
     "text": [
      "This is documentation of the class\n",
      "Employee\n",
      "__main__\n",
      "(<class 'object'>,)\n"
     ]
    }
   ],
   "source": [
    "\"\"\"\n",
    "Python Builin class attributes\n",
    "1\t__dict__    \t It provides the dictionary containing the information about the class namespace.\n",
    "2\t__doc__     \t It contains a string which has the class documentation\n",
    "3\t__name__    \t It is used to access the class name.\n",
    "4\t__module__  \t It is used to access the module in which, this class is defined.\n",
    "5\t__bases__   \t It contains a tuple including all base classes.\n",
    "\"\"\"\n",
    "#print(Employee.__dict__)\n",
    "print(Employee.__doc__)\n",
    "print(Employee.__name__)\n",
    "print(Employee.__module__)\n",
    "print(Employee.__bases__) # no inheritance yet so only entry of itself in tuple"
   ]
  },
  {
   "cell_type": "code",
   "execution_count": 58,
   "metadata": {},
   "outputs": [
    {
     "name": "stdout",
     "output_type": "stream",
     "text": [
      "Sbi\n",
      "1991\n",
      "Delhi\n",
      "1\n"
     ]
    }
   ],
   "source": [
    "\"\"\"\n",
    "Python Inheritance\n",
    "In inheritance, the child class acquires the properties and can access all the data members and functions \n",
    "defined in the parent class\n",
    "\"\"\"\n",
    "\n",
    "#Single Inheritance\n",
    "class Bank:\n",
    "    \"\"\"Bank having name and founded date\"\"\"\n",
    "    \n",
    "    #two underscore for data hiding private \n",
    "    __no_of_bank = 0\n",
    "    \n",
    "    def __init__(self,name=None,founded_date=None):\n",
    "        self.name = name\n",
    "        self.founded_date = founded_date\n",
    "        Bank.__no_of_bank += 1\n",
    "    def get_bank_count():\n",
    "        return Bank.__no_of_bank\n",
    "\n",
    "class Sbi(Bank):\n",
    "    \"\"\"parent class is Bank and children is SBI\"\"\"\n",
    "    #class variable\n",
    "    sbi_banks=0\n",
    "    \n",
    "    def __init__(self,founded_date=None,location=None):\n",
    "        \"\"\" Super is used to invoke parent constructor\"\"\"\n",
    "        super().__init__(\"Sbi\",founded_date)\n",
    "        self.location=location\n",
    "\n",
    "        \n",
    "sbi = Sbi(1991,\"Delhi\")\n",
    "print(sbi.name)\n",
    "print(sbi.founded_date)\n",
    "print(sbi.location)\n",
    "print(Bank.get_bank_count())"
   ]
  },
  {
   "cell_type": "code",
   "execution_count": 90,
   "metadata": {},
   "outputs": [
    {
     "name": "stdout",
     "output_type": "stream",
     "text": [
      "Sbi\n",
      "1991\n",
      "India\n",
      "10\n",
      "LA LA Sbi LA LA Sbi LA\n",
      "LA LA LA LA LA Bank\n",
      "world_bank_anthem LA lA lA\n"
     ]
    }
   ],
   "source": [
    "#MultiLevel Inheritance\n",
    "class WorldBank:\n",
    "    \"\"\"World Bank\"\"\"\n",
    "    def __init__(self,name=None,founded_date=None):\n",
    "        self.name = name\n",
    "        self.founded_date = founded_date\n",
    "        \n",
    "    def get_world_bank_anthem(self):\n",
    "        return \"world_bank_anthem LA lA lA\"\n",
    "    \n",
    "class Bank(WorldBank):\n",
    "    \"\"\"Bank having name and founded date and country\"\"\"\n",
    "    \n",
    "    def __init__(self,name=None,founded_date=None,country=None):\n",
    "        super().__init__(name,founded_date)\n",
    "        self.country = country\n",
    "        \n",
    "    def get_bank_anthem(self):\n",
    "        return \"LA LA LA LA LA Bank\"\n",
    "\n",
    "class Sbi(Bank):\n",
    "    \"\"\"parent class is Bank and children is SBI\"\"\"\n",
    "    \n",
    "    def __init__(self,founded_date=None,country=None,rate=None):\n",
    "        \"\"\" Super is used to invoke parent constructor\"\"\"\n",
    "        super().__init__(\"Sbi\",founded_date,country)\n",
    "        self.rate = rate\n",
    "    \n",
    "    def get_sbi_anthem(self):\n",
    "        return \"LA LA Sbi LA LA Sbi LA\"\n",
    "\n",
    "sbi = Sbi(1991,\"India\",10)\n",
    "\n",
    "print(sbi.name)\n",
    "print(sbi.founded_date)\n",
    "print(sbi.country)\n",
    "print(sbi.rate)\n",
    "print(sbi.get_sbi_anthem())\n",
    "print(sbi.get_bank_anthem())\n",
    "print(sbi.get_world_bank_anthem())"
   ]
  },
  {
   "cell_type": "code",
   "execution_count": 69,
   "metadata": {},
   "outputs": [
    {
     "name": "stdout",
     "output_type": "stream",
     "text": [
      "calulations start\n",
      "10\n",
      "2\n",
      "24\n",
      "1.5\n"
     ]
    }
   ],
   "source": [
    "#multpile inheritance \n",
    "#Python provides us the flexibility to inherit multiple base classes in the child class.\n",
    "class Add:\n",
    "    def add(self,a,b):\n",
    "        return a+b\n",
    "\n",
    "class Subtract:\n",
    "    def sub(self,a,b):\n",
    "        return a-b\n",
    "\n",
    "class Multiply:\n",
    "    def mul(self,a,b):\n",
    "        return a*b\n",
    "\n",
    "class Divide:\n",
    "    def div(self,a,b):\n",
    "        return a/b\n",
    "\n",
    "class Math(Add,Subtract,Multiply,Divide):\n",
    "    def __init__(self):\n",
    "        print(\"calulations start\")\n",
    "\n",
    "c = Math()\n",
    "print(c.add(6,4))\n",
    "print(c.sub(6,4))\n",
    "print(c.mul(6,4))\n",
    "print(c.div(6,4))\n"
   ]
  },
  {
   "cell_type": "code",
   "execution_count": 80,
   "metadata": {},
   "outputs": [
    {
     "name": "stdout",
     "output_type": "stream",
     "text": [
      "True\n",
      "True\n",
      "False\n",
      "----------------------\n",
      "False\n",
      "True\n",
      "True\n",
      "True\n"
     ]
    }
   ],
   "source": [
    "#some inbuilt function to check the relation between class and subclass\n",
    "\"\"\"\n",
    "** (issubclass(sub,sup)) method\n",
    "The issubclass(sub, sup) method is used to check the relationships between the specified classes. \n",
    "It returns true if the first class is the subclass of the second class, and false otherwise.\n",
    "\"\"\"\n",
    "print(issubclass(Sbi,Bank))\n",
    "print(issubclass(Bank,WorldBank))\n",
    "print(issubclass(Bank,Sbi))\n",
    "print(\"----------------------\")\n",
    "\"\"\"\n",
    "** (isinstance (obj, class)) method\n",
    "The isinstance() method is used to check the relationship between the objects and classes. \n",
    "It returns true if the first parameter, i.e., obj is the instance of the second parameter, i.e., class.\n",
    "\"\"\"\n",
    "print(isinstance(sbi,Math))\n",
    "print(isinstance(sbi,Bank))\n",
    "print(isinstance(sbi,Sbi))\n",
    "print(isinstance(sbi,WorldBank))"
   ]
  },
  {
   "cell_type": "code",
   "execution_count": 88,
   "metadata": {},
   "outputs": [
    {
     "name": "stdout",
     "output_type": "stream",
     "text": [
      "0\n"
     ]
    },
    {
     "ename": "AttributeError",
     "evalue": "'Example' object has no attribute '__count'",
     "output_type": "error",
     "traceback": [
      "\u001b[0;31m---------------------------------------------------------------------------\u001b[0m",
      "\u001b[0;31mAttributeError\u001b[0m                            Traceback (most recent call last)",
      "\u001b[0;32m<ipython-input-88-9ae619c59b00>\u001b[0m in \u001b[0;36m<module>\u001b[0;34m\u001b[0m\n\u001b[1;32m     11\u001b[0m \u001b[0;34m\u001b[0m\u001b[0m\n\u001b[1;32m     12\u001b[0m \u001b[0mprint\u001b[0m\u001b[0;34m(\u001b[0m\u001b[0mobj\u001b[0m\u001b[0;34m.\u001b[0m\u001b[0m_Example__count\u001b[0m\u001b[0;34m)\u001b[0m\u001b[0;34m\u001b[0m\u001b[0;34m\u001b[0m\u001b[0m\n\u001b[0;32m---> 13\u001b[0;31m \u001b[0mprint\u001b[0m\u001b[0;34m(\u001b[0m\u001b[0mobj\u001b[0m\u001b[0;34m.\u001b[0m\u001b[0m__count\u001b[0m\u001b[0;34m)\u001b[0m\u001b[0;34m\u001b[0m\u001b[0;34m\u001b[0m\u001b[0m\n\u001b[0m",
      "\u001b[0;31mAttributeError\u001b[0m: 'Example' object has no attribute '__count'"
     ]
    }
   ],
   "source": [
    "\"\"\"\n",
    "Nothing in Python is truly private; internally ,\n",
    "ex - we use __count these as private but these can be accesed with little trick.\n",
    "It can be accesed using object.\n",
    "Intenally python changes the name of variable which have two or one underscore\n",
    "\"\"\"\n",
    "class Example:\n",
    "    __count=0\n",
    "    \n",
    "obj = Example()\n",
    "\n",
    "print(obj._Example__count)\n",
    "print(obj.__count)"
   ]
  },
  {
   "cell_type": "code",
   "execution_count": 96,
   "metadata": {},
   "outputs": [
    {
     "name": "stdout",
     "output_type": "stream",
     "text": [
      "SBISIBISBISIB\n"
     ]
    }
   ],
   "source": [
    "\"\"\"\n",
    "Method Overriding and Method Overloading and Operator overloading\n",
    "\"\"\"\n",
    "\n",
    "#Method Overriding\n",
    "class Bank(WorldBank):\n",
    "    \"\"\"Bank having name and founded date and country\"\"\"\n",
    "    \n",
    "    def __init__(self,name=None,date=None,country=None):\n",
    "        self.name=name\n",
    "        self.founded_date=date\n",
    "        self.country = country\n",
    "        \n",
    "    def get_bank_anthem(self):\n",
    "        return \"LA LA LA LA LA Bank\"\n",
    "\n",
    "class Sbi(Bank):\n",
    "    \"\"\"parent class is Bank and children is SBI\"\"\"\n",
    "    \n",
    "    def __init__(self,founded_date=None,country=None,rate=None):\n",
    "        \"\"\" Super is used to invoke parent constructor\"\"\"\n",
    "        super().__init__(\"Sbi\",founded_date,country)\n",
    "        self.rate = rate\n",
    "    \n",
    "    def get_bank_anthem(self):\n",
    "        return \"SBISIBISBISIB\"\n",
    "\n",
    "sbi = Sbi(1991,\"India\",10)\n",
    "\n",
    "print(sbi.get_bank_anthem())"
   ]
  },
  {
   "cell_type": "code",
   "execution_count": 101,
   "metadata": {},
   "outputs": [],
   "source": [
    "#Method Overloading\n",
    "#when we make our __str__ that overload the previus default one"
   ]
  },
  {
   "cell_type": "code",
   "execution_count": 108,
   "metadata": {},
   "outputs": [
    {
     "name": "stdout",
     "output_type": "stream",
     "text": [
      "Coordinate(10,8)\n"
     ]
    }
   ],
   "source": [
    "#Overloading operator\n",
    "\n",
    "class Coordinate:\n",
    "    def __init__(self,x,y):\n",
    "        self.x=x\n",
    "        self.y=y\n",
    "        \n",
    "    #These are the default operator functionalites\n",
    "    #remove comments and run\n",
    "    def __add__(self,other):\n",
    "        return Coordinate(self.x + other.x, self.y + other.y)\n",
    "    \n",
    "    def __str__(self):\n",
    "        return \"Coordinate({},{})\".format(self.x,self.y)\n",
    "c1 = Coordinate(7,2)\n",
    "c2 = Coordinate(3,6)\n",
    "print(c1+c2)"
   ]
  }
 ],
 "metadata": {
  "kernelspec": {
   "display_name": "Python 3",
   "language": "python",
   "name": "python3"
  },
  "language_info": {
   "codemirror_mode": {
    "name": "ipython",
    "version": 3
   },
   "file_extension": ".py",
   "mimetype": "text/x-python",
   "name": "python",
   "nbconvert_exporter": "python",
   "pygments_lexer": "ipython3",
   "version": "3.6.8"
  }
 },
 "nbformat": 4,
 "nbformat_minor": 2
}
