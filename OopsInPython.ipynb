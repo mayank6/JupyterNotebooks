{
 "cells": [
  {
   "cell_type": "markdown",
   "metadata": {},
   "source": [
    "# What is object oriented programming ?\n",
    "-\n",
    "**Pyhton is multiple paradigm langauge in which programs can follow procedural(direclty write code) as well as \n",
    "oops(structural where object must be made),Though evrything in python is object.**\n",
    "\n",
    "**Object oriented programming** is the concept that, in programming, the objects that we’re manipulating are more \n",
    "important than the logic needed to manipulate those objects.\n",
    "\n",
    "**ex**- **obj.get_song(\"Eminem\")** is manipulated and we get prefered song we didnt take care about the logic behind it. \n",
    "-How albums or artists are searched behind the scenes is **logic**.\n",
    "\n",
    "Objects are **(person,car,list,tuple,city etc)**\n",
    "\n",
    "Class are **blueprints** and we can have **multiple** objects from **same** class.\n",
    "\n",
    "How you gonna **(make linkedlist,trees)** or **(make person(name,age),Car(name,color))**\n",
    "\n",
    "1. These are the **object defining** like what the attribute we need in order to make objects. \n",
    "   **linkedlist**-(one int or string value) and another a reference value to same type **node** or **class**.\n",
    "   \n",
    "   "
   ]
  },
  {
   "cell_type": "markdown",
   "metadata": {},
   "source": [
    "```class Node(object):\n",
    "     def __init__(self,data=None,next=None):\n",
    "           self.data=data\n",
    "           self.next=next #(here next have reference to another object of Node class)\n",
    "```\n"
   ]
  },
  {
   "cell_type": "markdown",
   "metadata": {},
   "source": [
    "Above have simple insitialization we need for object \n",
    "       \n",
    "### Now for logics and manipulating like setting next of a Node or setting data or getting data\n",
    "       \n",
    "There is way like doing (obj.data or obj.next = anotherNodeobject) but obj.get_data() and                             obj.set_data(data) are more readable and a good way of programming called (setter and getter methods**).\n"
   ]
  },
  {
   "cell_type": "markdown",
   "metadata": {},
   "source": [
    "```class Node(object):\n",
    "    def __init__(self, data=None, next=None):\n",
    "        self.data = data\n",
    "        self.next = next\n",
    "    def get_data(self):\n",
    "        return self.data\n",
    "    def get_next(self):\n",
    "        return self.next\n",
    "    def set_next(self, new_next):\n",
    "        self.next = new_next\n",
    "```        \n"
   ]
  },
  {
   "cell_type": "markdown",
   "metadata": {},
   "source": [
    "\n",
    "### An object has two characteristics:\n",
    "\n",
    "1. attributes\n",
    "2. behavior\n",
    "\n",
    "ex-\n",
    "Person is object\n",
    "1. name age weight height are attributes \n",
    "2. dancing playing walking are behavior\n",
    "\n",
    "\n"
   ]
  },
  {
   "cell_type": "markdown",
   "metadata": {},
   "source": [
    "## For Python 3.x\n",
    "**class Employee:\n",
    "    pass**\n",
    "\n",
    "and,\n",
    "\n",
    "**class Employee(Object):\n",
    "    pass**\n",
    "    \n",
    "are same."
   ]
  },
  {
   "cell_type": "markdown",
   "metadata": {},
   "source": [
    "### For Python 2.x\n",
    "[Visit This](https://stackoverflow.com/questions/4015417/python-class-inherits-object)"
   ]
  },
  {
   "cell_type": "code",
   "execution_count": 79,
   "metadata": {},
   "outputs": [
    {
     "name": "stdout",
     "output_type": "stream",
     "text": [
      "Employee Name:Rahul Salary:None Age:None of xyz organization\n",
      "Employee Name:Mayank Salary:None Age:21 of xyz organization\n",
      "Employee Name:Rohit Salary:25000 Age:25 of xyz organization\n",
      "3\n"
     ]
    }
   ],
   "source": [
    "class Employee:\n",
    "    \"\"\"This is documentation of the class\"\"\"\n",
    "    \n",
    "    #class varibale (shared to all instance object of Employee)\n",
    "    no_of_emp=0\n",
    "    \n",
    "    def __init__(self,emp_name=None,emp_age=None,emp_salary=None):\n",
    "        \"\"\"constructor with optional name,age,salary can be set later using setter methods.\"\"\"\n",
    "        self.name = emp_name\n",
    "        self.age = emp_age\n",
    "        self.salary = emp_salary\n",
    "        Employee.no_of_emp += 1\n",
    "    \n",
    "    #try code with or without __str__ and see what happens\n",
    "    def __str__(self):\n",
    "        \"\"\"while printing objects it give more sense\"\"\"\n",
    "        return (\"Employee Name:{} Salary:{} Age:{} of xyz organization\".format(self.name,self.salary,self.age))\n",
    "        \n",
    "emp1 = Employee(\"Rahul\")\n",
    "emp2 = Employee(\"Mayank\",\"21\")\n",
    "emp3 = Employee(\"Rohit\",\"25\",25000)\n",
    "print(emp1)\n",
    "print(emp2)\n",
    "print(emp3)\n",
    "print(Employee.no_of_emp)"
   ]
  },
  {
   "cell_type": "markdown",
   "metadata": {},
   "source": [
    "\n",
    "What is self?\n",
    "    Self represents the instance of the class.By using the “self” keyword we can access the attributes and \n",
    "    methods of the class in python\n",
    "    ex-\n",
    "        emp1 = Employee()\n",
    "    Intenally in class it can be self.name = name or emp1.name=name\n"
   ]
  },
  {
   "cell_type": "code",
   "execution_count": 81,
   "metadata": {},
   "outputs": [
    {
     "name": "stdout",
     "output_type": "stream",
     "text": [
      "Mayank\n",
      "Mayank Chauhan\n",
      "25000\n"
     ]
    },
    {
     "ename": "AttributeError",
     "evalue": "'Employee' object has no attribute '__amountToBeIncreased'",
     "output_type": "error",
     "traceback": [
      "\u001b[0;31m---------------------------------------------------------------------------\u001b[0m",
      "\u001b[0;31mAttributeError\u001b[0m                            Traceback (most recent call last)",
      "\u001b[0;32m<ipython-input-81-01b82c410248>\u001b[0m in \u001b[0;36m<module>\u001b[0;34m\u001b[0m\n\u001b[1;32m     44\u001b[0m \u001b[0mmayank\u001b[0m\u001b[0;34m.\u001b[0m\u001b[0msalaryincreaseByPerc\u001b[0m\u001b[0;34m(\u001b[0m\u001b[0;36m25\u001b[0m\u001b[0;34m)\u001b[0m\u001b[0;34m\u001b[0m\u001b[0;34m\u001b[0m\u001b[0m\n\u001b[1;32m     45\u001b[0m \u001b[0mprint\u001b[0m\u001b[0;34m(\u001b[0m\u001b[0mmayank\u001b[0m\u001b[0;34m.\u001b[0m\u001b[0mget_salary\u001b[0m\u001b[0;34m(\u001b[0m\u001b[0;34m)\u001b[0m\u001b[0;34m)\u001b[0m\u001b[0;34m\u001b[0m\u001b[0;34m\u001b[0m\u001b[0m\n\u001b[0;32m---> 46\u001b[0;31m \u001b[0mprint\u001b[0m\u001b[0;34m(\u001b[0m\u001b[0mmayank\u001b[0m\u001b[0;34m.\u001b[0m\u001b[0m__amountToBeIncreased\u001b[0m\u001b[0;34m(\u001b[0m\u001b[0;36m25\u001b[0m\u001b[0;34m)\u001b[0m\u001b[0;34m)\u001b[0m \u001b[0;31m#did you notice it was there. but it is due to Data hiding\u001b[0m\u001b[0;34m\u001b[0m\u001b[0;34m\u001b[0m\u001b[0m\n\u001b[0m",
      "\u001b[0;31mAttributeError\u001b[0m: 'Employee' object has no attribute '__amountToBeIncreased'"
     ]
    }
   ],
   "source": [
    "class Employee:\n",
    "    \"\"\"This is documentation of the class\"\"\"\n",
    "    \n",
    "    #class varibale (shared to all instance object of Employee)\n",
    "    no_of_emp = 0\n",
    "    \n",
    "    def __init__(self,emp_name=None,emp_age=None,emp_salary=None):\n",
    "        \"\"\"constructor with optional name,age,salary can be set later using setter methods.\"\"\"\n",
    "        self.name = emp_name\n",
    "        self.age = emp_age\n",
    "        self.salary = emp_salary\n",
    "        Employee.no_of_emp += 1\n",
    "    \n",
    "    def get_name(self):\n",
    "        \"\"\"getter for name\"\"\"\n",
    "        return self.name\n",
    "    \n",
    "    def set_name(self,name):\n",
    "        \"\"\"setter for name not return anything\"\"\"\n",
    "        self.name = name\n",
    "    \n",
    "    def get_salary(self):\n",
    "        \"\"\"Getter for salary\"\"\"\n",
    "        return self.salary\n",
    "    \n",
    "    def salaryincreaseByPerc(self,perc):\n",
    "        \"\"\"This function increase salary by perc\"\"\"\n",
    "        amount = int(self.__amountToBeIncreased(perc))\n",
    "        self.salary = amount + self.salary\n",
    "        \n",
    "    def __amountToBeIncreased(self,perc):\n",
    "        \"\"\"Private method that have no use for outer world. though it can be accese later we will see\"\"\"\n",
    "        return self.salary*(perc/100)\n",
    "    \n",
    "    #try code with or without __str__ and see what happens\n",
    "    def __str__(self):\n",
    "        \"\"\"while printing objects it give more sense\"\"\"\n",
    "        return (\"Employee Name:{} Salary:{} Age:{} of xyz organization\".format(self.name,self.salary,self.age))\n",
    "\n",
    "mayank = Employee(\"Mayank\",\"20\",20000)\n",
    "print(mayank.get_name())\n",
    "mayank.set_name(\"Mayank Chauhan\")\n",
    "print(mayank.get_name())\n",
    "mayank.salaryincreaseByPerc(25)\n",
    "print(mayank.get_salary())\n",
    "print(mayank.__amountToBeIncreased(25)) #did you notice it was there. but it is due to Data hiding"
   ]
  },
  {
   "cell_type": "code",
   "execution_count": 82,
   "metadata": {},
   "outputs": [
    {
     "name": "stdout",
     "output_type": "stream",
     "text": [
      "Mayank Chauhan\n",
      "Mayank\n",
      "True\n",
      "False\n"
     ]
    }
   ],
   "source": [
    "\"\"\"Python Inbuilt Class Functions\n",
    "1\tgetattr(obj,name,default)\tIt is used to access the attribute of the object.\n",
    "2\tsetattr(obj, name,value)\tIt is used to set a particular value to the specific attribute of an object.\n",
    "3\tdelattr(obj, name)      \tIt is used to delete a specific attribute.\n",
    "4\thasattr(obj, name)      \tIt returns true if the object contains some specific attribute.\n",
    "\"\"\"\n",
    "print(getattr(mayank,\"name\",None))\n",
    "setattr(mayank,\"name\",\"Mayank\")\n",
    "print(mayank.get_name())\n",
    "print(hasattr(mayank,\"name\"))\n",
    "print(hasattr(mayank,\"address\"))"
   ]
  },
  {
   "cell_type": "code",
   "execution_count": 83,
   "metadata": {},
   "outputs": [
    {
     "name": "stdout",
     "output_type": "stream",
     "text": [
      "This is documentation of the class\n",
      "Employee\n",
      "__main__\n",
      "(<class 'object'>,)\n"
     ]
    }
   ],
   "source": [
    "\"\"\"\n",
    "Python Builin class attributes\n",
    "1\t__dict__    \t It provides the dictionary containing the information about the class namespace.\n",
    "2\t__doc__     \t It contains a string which has the class documentation\n",
    "3\t__name__    \t It is used to access the class name.\n",
    "4\t__module__  \t It is used to access the module in which, this class is defined.\n",
    "5\t__bases__   \t It contains a tuple including all base classes.\n",
    "\"\"\"\n",
    "#print(Employee.__dict__)\n",
    "print(Employee.__doc__)\n",
    "print(Employee.__name__)\n",
    "print(Employee.__module__)\n",
    "print(Employee.__bases__) # no inheritance yet so only entry of itself in tuple"
   ]
  },
  {
   "cell_type": "code",
   "execution_count": 84,
   "metadata": {},
   "outputs": [
    {
     "name": "stdout",
     "output_type": "stream",
     "text": [
      "Sbi\n",
      "1991\n",
      "Delhi\n",
      "1\n"
     ]
    }
   ],
   "source": [
    "\"\"\"\n",
    "Python Inheritance\n",
    "In inheritance, the child class acquires the properties and can access all the data members and functions \n",
    "defined in the parent class\n",
    "\"\"\"\n",
    "\n",
    "#Single Inheritance\n",
    "class Bank:\n",
    "    \"\"\"Bank having name and founded date\"\"\"\n",
    "    \n",
    "    #two underscore for data hiding private \n",
    "    __no_of_bank = 0\n",
    "    \n",
    "    def __init__(self,name=None,founded_date=None):\n",
    "        self.name = name\n",
    "        self.founded_date = founded_date\n",
    "        Bank.__no_of_bank += 1\n",
    "    def get_bank_count():\n",
    "        return Bank.__no_of_bank\n",
    "\n",
    "class Sbi(Bank):\n",
    "    \"\"\"parent class is Bank and children is SBI\"\"\"\n",
    "    #class variable\n",
    "    sbi_banks=0\n",
    "    \n",
    "    def __init__(self,founded_date=None,location=None):\n",
    "        \"\"\" Super is used to invoke parent constructor\"\"\"\n",
    "        super().__init__(\"Sbi\",founded_date)\n",
    "        self.location=location\n",
    "\n",
    "        \n",
    "sbi = Sbi(1991,\"Delhi\")\n",
    "print(sbi.name)\n",
    "print(sbi.founded_date)\n",
    "print(sbi.location)\n",
    "print(Bank.get_bank_count())"
   ]
  },
  {
   "cell_type": "code",
   "execution_count": 85,
   "metadata": {},
   "outputs": [
    {
     "name": "stdout",
     "output_type": "stream",
     "text": [
      "Sbi\n",
      "1991\n",
      "India\n",
      "10\n",
      "LA LA Sbi LA LA Sbi LA\n",
      "LA LA LA LA LA Bank\n",
      "world_bank_anthem LA lA lA\n"
     ]
    }
   ],
   "source": [
    "#MultiLevel Inheritance\n",
    "class WorldBank:\n",
    "    \"\"\"World Bank\"\"\"\n",
    "    def __init__(self,name=None,founded_date=None):\n",
    "        self.name = name\n",
    "        self.founded_date = founded_date\n",
    "        \n",
    "    def get_world_bank_anthem(self):\n",
    "        return \"world_bank_anthem LA lA lA\"\n",
    "    \n",
    "class Bank(WorldBank):\n",
    "    \"\"\"Bank having name and founded date and country\"\"\"\n",
    "    \n",
    "    def __init__(self,name=None,founded_date=None,country=None):\n",
    "        super().__init__(name,founded_date)\n",
    "        self.country = country\n",
    "        \n",
    "    def get_bank_anthem(self):\n",
    "        return \"LA LA LA LA LA Bank\"\n",
    "\n",
    "class Sbi(Bank):\n",
    "    \"\"\"parent class is Bank and children is SBI\"\"\"\n",
    "    \n",
    "    def __init__(self,founded_date=None,country=None,rate=None):\n",
    "        \"\"\" Super is used to invoke parent constructor\"\"\"\n",
    "        super().__init__(\"Sbi\",founded_date,country)\n",
    "        self.rate = rate\n",
    "    \n",
    "    def get_sbi_anthem(self):\n",
    "        return \"LA LA Sbi LA LA Sbi LA\"\n",
    "\n",
    "sbi = Sbi(1991,\"India\",10)\n",
    "\n",
    "print(sbi.name)\n",
    "print(sbi.founded_date)\n",
    "print(sbi.country)\n",
    "print(sbi.rate)\n",
    "print(sbi.get_sbi_anthem())\n",
    "print(sbi.get_bank_anthem())\n",
    "print(sbi.get_world_bank_anthem())"
   ]
  },
  {
   "cell_type": "code",
   "execution_count": 86,
   "metadata": {},
   "outputs": [
    {
     "name": "stdout",
     "output_type": "stream",
     "text": [
      "calulations start\n",
      "10\n",
      "2\n",
      "24\n",
      "1.5\n"
     ]
    }
   ],
   "source": [
    "#multpile inheritance \n",
    "#Python provides us the flexibility to inherit multiple base classes in the child class.\n",
    "class Add:\n",
    "    def add(self,a,b):\n",
    "        return a+b\n",
    "\n",
    "class Subtract:\n",
    "    def sub(self,a,b):\n",
    "        return a-b\n",
    "\n",
    "class Multiply:\n",
    "    def mul(self,a,b):\n",
    "        return a*b\n",
    "\n",
    "class Divide:\n",
    "    def div(self,a,b):\n",
    "        return a/b\n",
    "\n",
    "class Math(Add,Subtract,Multiply,Divide):\n",
    "    def __init__(self):\n",
    "        print(\"calulations start\")\n",
    "\n",
    "c = Math()\n",
    "print(c.add(6,4))\n",
    "print(c.sub(6,4))\n",
    "print(c.mul(6,4))\n",
    "print(c.div(6,4))\n"
   ]
  },
  {
   "cell_type": "code",
   "execution_count": 87,
   "metadata": {},
   "outputs": [
    {
     "name": "stdout",
     "output_type": "stream",
     "text": [
      "True\n",
      "True\n",
      "False\n",
      "----------------------\n",
      "False\n",
      "True\n",
      "True\n",
      "True\n"
     ]
    }
   ],
   "source": [
    "#some inbuilt function to check the relation between class and subclass\n",
    "\"\"\"\n",
    "** (issubclass(sub,sup)) method\n",
    "The issubclass(sub, sup) method is used to check the relationships between the specified classes. \n",
    "It returns true if the first class is the subclass of the second class, and false otherwise.\n",
    "\"\"\"\n",
    "print(issubclass(Sbi,Bank))\n",
    "print(issubclass(Bank,WorldBank))\n",
    "print(issubclass(Bank,Sbi))\n",
    "print(\"----------------------\")\n",
    "\"\"\"\n",
    "** (isinstance (obj, class)) method\n",
    "The isinstance() method is used to check the relationship between the objects and classes. \n",
    "It returns true if the first parameter, i.e., obj is the instance of the second parameter, i.e., class.\n",
    "\"\"\"\n",
    "print(isinstance(sbi,Math))\n",
    "print(isinstance(sbi,Bank))\n",
    "print(isinstance(sbi,Sbi))\n",
    "print(isinstance(sbi,WorldBank))"
   ]
  },
  {
   "cell_type": "code",
   "execution_count": 88,
   "metadata": {},
   "outputs": [
    {
     "name": "stdout",
     "output_type": "stream",
     "text": [
      "0\n"
     ]
    },
    {
     "ename": "AttributeError",
     "evalue": "'Example' object has no attribute '__count'",
     "output_type": "error",
     "traceback": [
      "\u001b[0;31m---------------------------------------------------------------------------\u001b[0m",
      "\u001b[0;31mAttributeError\u001b[0m                            Traceback (most recent call last)",
      "\u001b[0;32m<ipython-input-88-9ae619c59b00>\u001b[0m in \u001b[0;36m<module>\u001b[0;34m\u001b[0m\n\u001b[1;32m     11\u001b[0m \u001b[0;34m\u001b[0m\u001b[0m\n\u001b[1;32m     12\u001b[0m \u001b[0mprint\u001b[0m\u001b[0;34m(\u001b[0m\u001b[0mobj\u001b[0m\u001b[0;34m.\u001b[0m\u001b[0m_Example__count\u001b[0m\u001b[0;34m)\u001b[0m\u001b[0;34m\u001b[0m\u001b[0;34m\u001b[0m\u001b[0m\n\u001b[0;32m---> 13\u001b[0;31m \u001b[0mprint\u001b[0m\u001b[0;34m(\u001b[0m\u001b[0mobj\u001b[0m\u001b[0;34m.\u001b[0m\u001b[0m__count\u001b[0m\u001b[0;34m)\u001b[0m\u001b[0;34m\u001b[0m\u001b[0;34m\u001b[0m\u001b[0m\n\u001b[0m",
      "\u001b[0;31mAttributeError\u001b[0m: 'Example' object has no attribute '__count'"
     ]
    }
   ],
   "source": [
    "\"\"\"\n",
    "Nothing in Python is truly private; internally ,\n",
    "ex - we use __count these as private but these can be accesed with little trick.\n",
    "It can be accesed using object.\n",
    "Intenally python changes the name of variable which have two or one underscore\n",
    "\"\"\"\n",
    "class Example:\n",
    "    __count=0\n",
    "    \n",
    "obj = Example()\n",
    "\n",
    "print(obj._Example__count)\n",
    "print(obj.__count)"
   ]
  },
  {
   "cell_type": "code",
   "execution_count": 89,
   "metadata": {},
   "outputs": [
    {
     "name": "stdout",
     "output_type": "stream",
     "text": [
      "SBISIBISBISIB\n"
     ]
    }
   ],
   "source": [
    "\"\"\"\n",
    "Method Overriding and Method Overloading and Operator overloading\n",
    "\"\"\"\n",
    "\n",
    "#Method Overriding\n",
    "class Bank(WorldBank):\n",
    "    \"\"\"Bank having name and founded date and country\"\"\"\n",
    "    \n",
    "    def __init__(self,name=None,date=None,country=None):\n",
    "        self.name=name\n",
    "        self.founded_date=date\n",
    "        self.country = country\n",
    "        \n",
    "    def get_bank_anthem(self):\n",
    "        return \"LA LA LA LA LA Bank\"\n",
    "\n",
    "class Sbi(Bank):\n",
    "    \"\"\"parent class is Bank and children is SBI\"\"\"\n",
    "    \n",
    "    def __init__(self,founded_date=None,country=None,rate=None):\n",
    "        \"\"\" Super is used to invoke parent constructor\"\"\"\n",
    "        super().__init__(\"Sbi\",founded_date,country)\n",
    "        self.rate = rate\n",
    "    \n",
    "    def get_bank_anthem(self):\n",
    "        return \"SBISIBISBISIB\"\n",
    "\n",
    "sbi = Sbi(1991,\"India\",10)\n",
    "\n",
    "print(sbi.get_bank_anthem())"
   ]
  },
  {
   "cell_type": "code",
   "execution_count": 112,
   "metadata": {},
   "outputs": [
    {
     "name": "stdout",
     "output_type": "stream",
     "text": [
      "['__class__', '__delattr__', '__dict__', '__dir__', '__doc__', '__eq__', '__format__', '__ge__', '__getattribute__', '__gt__', '__hash__', '__init__', '__init_subclass__', '__le__', '__lt__', '__module__', '__ne__', '__new__', '__reduce__', '__reduce_ex__', '__repr__', '__setattr__', '__sizeof__', '__str__', '__subclasshook__', '__weakref__', 'country', 'founded_date', 'get_bank_anthem', 'get_world_bank_anthem', 'name', 'rate']\n",
      "2\n",
      "7\n",
      "11\n",
      "13\n"
     ]
    }
   ],
   "source": [
    "#Method Overloading\n",
    "#when we make our __str__ and overload __add__ in previous cell that overload the previus default one\n",
    "print(dir(sbi)) #all these can be overloaded to change their behaviour of working.\n",
    "#python doesnt support method overloading like java does but it can be coded to work like method overload\n",
    "#here is example\n",
    "\n",
    "def add(*args):\n",
    "    s=0\n",
    "    for x in args:\n",
    "        s+=x\n",
    "    return s\n",
    "\n",
    "print(add(2))\n",
    "print(add(2,5))\n",
    "print(add(2,7,2))\n",
    "print(add(2,3,5,3))\n"
   ]
  },
  {
   "cell_type": "code",
   "execution_count": 107,
   "metadata": {},
   "outputs": [
    {
     "name": "stdout",
     "output_type": "stream",
     "text": [
      "Coordinate(10,8)\n"
     ]
    }
   ],
   "source": [
    "#mthod Overloading operator\n",
    "\n",
    "class Coordinate:\n",
    "    def __init__(self,x,y):\n",
    "        self.x=x\n",
    "        self.y=y\n",
    "        \n",
    "    #These are the default operator functionalites\n",
    "    #remove comments and run\n",
    "    def __add__(self,other):\n",
    "        return Coordinate(self.x + other.x, self.y + other.y)\n",
    "    \n",
    "    def __str__(self):\n",
    "        return \"Coordinate({},{})\".format(self.x,self.y)\n",
    "c1 = Coordinate(7,2)\n",
    "c2 = Coordinate(3,6)\n",
    "print(c1+c2)"
   ]
  },
  {
   "cell_type": "code",
   "execution_count": 138,
   "metadata": {},
   "outputs": [
    {
     "name": "stdout",
     "output_type": "stream",
     "text": [
      "\n"
     ]
    }
   ],
   "source": [
    "'''\n",
    "Different Type of functions.\n",
    "\n",
    "1. Instance Fucntion-\n",
    "    -These functions can access unique data of their instance or objects.\n",
    "    -Instance function must have self in it.\n",
    "    -Function above we used are instance functions.\n",
    "    \n",
    "2. Static Methods-\n",
    "    -Static methods are methods that are related to a class in some way, \n",
    "        but don’t need to access any class-specific data. \n",
    "    -You don’t have to use self, and you don’t even need to instantiate an instance, you can simply call\n",
    "        your method.\n",
    "    -created using the @staticmethod decorator.\n",
    "\n",
    "3. Class Methods-\n",
    "    -Class methods know about their class. They can’t access specific instance data, \n",
    "        but they can call other static methods.\n",
    "    -Class methods don’t need self as an argument, but they do need a parameter called cls. \n",
    "        This stands for class, and like self, gets automatically passed in by Python\n",
    "    -created using the @classmethod decorator.\n",
    "'''"
   ]
  },
  {
   "cell_type": "code",
   "execution_count": 93,
   "metadata": {},
   "outputs": [
    {
     "name": "stdout",
     "output_type": "stream",
     "text": [
      "100\n",
      "175\n",
      "100\n"
     ]
    }
   ],
   "source": [
    "#Static Methods.\n",
    "class Employee:\n",
    "    def __init__(self,name,salary):\n",
    "        self.name=name\n",
    "        self.salary=salary\n",
    "    \n",
    "    def salaryincreasedby100(self,x,y):\n",
    "        self.salary += Employee.get100(x,y)\n",
    "    \n",
    "    @staticmethod\n",
    "    def get100(x,y):\n",
    "        return x+y\n",
    "\n",
    "emp1 = Employee('rahul',100)\n",
    "print(emp1.salary)\n",
    "emp1.salaryincreasedby100(50,25)\n",
    "print(emp1.salary)\n",
    "print(Employee.get100(50,50))"
   ]
  },
  {
   "cell_type": "code",
   "execution_count": 94,
   "metadata": {},
   "outputs": [
    {
     "name": "stdout",
     "output_type": "stream",
     "text": [
      "200\n"
     ]
    }
   ],
   "source": [
    "#Class Method\n",
    "class Employee:\n",
    "    def __init__(self,name,salary):\n",
    "        self.name=name\n",
    "        self.salary=salary\n",
    "    \n",
    "    def salaryincreasedby100(self):\n",
    "        self.salary += Employee.get100()\n",
    "    \n",
    "    @classmethod\n",
    "    def get200calledfrominstance(cls):\n",
    "        return cls.get200()\n",
    "    \n",
    "    @staticmethod\n",
    "    def get200():\n",
    "        return 200\n",
    "\n",
    "emp1 = Employee('rahul',100)\n",
    "print(emp1.get200calledfrominstance())"
   ]
  },
  {
   "cell_type": "markdown",
   "metadata": {},
   "source": [
    "# Closures"
   ]
  },
  {
   "cell_type": "code",
   "execution_count": 95,
   "metadata": {},
   "outputs": [
    {
     "name": "stdout",
     "output_type": "stream",
     "text": [
      "5\n"
     ]
    }
   ],
   "source": [
    "'''\n",
    "What is closure?\n",
    "    Functions can be nested and they can capture and carry some of the parent function’s state with them. \n",
    "        Functions that do this are called closures.\n",
    "    These inner functions can also capture and carry some of the parent function’s state with them\n",
    "'''\n",
    "\n",
    "def add(x,y):\n",
    "    def innerfunc():\n",
    "        return x+y\n",
    "    return innerfunc\n",
    "print(add(2,3)())"
   ]
  },
  {
   "cell_type": "code",
   "execution_count": 96,
   "metadata": {},
   "outputs": [
    {
     "name": "stdout",
     "output_type": "stream",
     "text": [
      "<function makeadd.<locals>.add at 0x7fa08ef6fbf8>\n",
      "9\n"
     ]
    }
   ],
   "source": [
    "def makeadd(n):\n",
    "    def add(x):\n",
    "        return x+n\n",
    "    return add\n",
    "x=makeadd(5)\n",
    "print(x)\n",
    "#add function can still access the n argument of the  makeadd function (the enclosing scope) these fucntions \n",
    "#are called closure\n",
    "print(x(4))"
   ]
  },
  {
   "cell_type": "markdown",
   "metadata": {},
   "source": [
    "# Decorators"
   ]
  },
  {
   "cell_type": "code",
   "execution_count": 97,
   "metadata": {},
   "outputs": [
    {
     "name": "stdout",
     "output_type": "stream",
     "text": [
      "Hello World\n",
      "\n"
     ]
    }
   ],
   "source": [
    "'''\n",
    "What is Decorators?\n",
    "    Python’s decorators allow you to extend and modify the behavior of a callable (functions, methods, and classes)\n",
    "        without permanently modifying the callable itself.\n",
    "    Wrapping of another function.\n",
    "'''\n",
    "#here is a callable function.\n",
    "\n",
    "def null_decorator(func):\n",
    "    return func\n",
    "\n",
    "def hello_world():\n",
    "    return \"Hello World\"\n",
    "\n",
    "hello = null_decorator(hello_world)\n",
    "print(hello())\n",
    "\n",
    "\"\"\"\n",
    "In this way we are passing our hello_world into decorator we write but doing nothing for sake of explanation.\n",
    "\"\"\"\n",
    "print(\"\")"
   ]
  },
  {
   "cell_type": "code",
   "execution_count": 98,
   "metadata": {},
   "outputs": [
    {
     "name": "stdout",
     "output_type": "stream",
     "text": [
      "Hello World\n"
     ]
    }
   ],
   "source": [
    "#above code can be write as \n",
    "\n",
    "@null_decorator\n",
    "def hello_word():\n",
    "    return \"Hello world\"\n",
    "\n",
    "print(hello_world())"
   ]
  },
  {
   "cell_type": "code",
   "execution_count": 99,
   "metadata": {},
   "outputs": [
    {
     "name": "stdout",
     "output_type": "stream",
     "text": [
      "HELLO WORLD\n"
     ]
    }
   ],
   "source": [
    "#decorator for upper case the strings change the behaviour\n",
    "\n",
    "def uppercase(func):\n",
    "    #uppercase decorator defines a new function on the fly (a closure).\n",
    "    def wrapper():\n",
    "        original = func()\n",
    "        modified = original.upper()\n",
    "        return modified\n",
    "    return wrapper\n",
    "\n",
    "@uppercase\n",
    "def hello_world():\n",
    "    return \"Hello world\"\n",
    "print(hello_world())"
   ]
  },
  {
   "cell_type": "code",
   "execution_count": 100,
   "metadata": {},
   "outputs": [
    {
     "name": "stdout",
     "output_type": "stream",
     "text": [
      "<strong><bold>hello<bold><strong>\n"
     ]
    }
   ],
   "source": [
    "#more than one decorator\n",
    "\n",
    "def strong(func):\n",
    "    def wrapper():\n",
    "        return \"<strong>\"+func()+\"<strong>\"\n",
    "    return wrapper\n",
    "\n",
    "def bold(func):\n",
    "    def wrapper():\n",
    "        return \"<bold>\"+func()+\"<bold>\"\n",
    "    return wrapper\n",
    "def hello():\n",
    "    return \"hello\"\n",
    "print(strong(bold(hello))())"
   ]
  },
  {
   "cell_type": "code",
   "execution_count": 101,
   "metadata": {},
   "outputs": [
    {
     "name": "stdout",
     "output_type": "stream",
     "text": [
      "<strong><bold>hello<bold><strong>\n",
      "-------\n",
      "<bold><strong>hello<strong><bold>\n"
     ]
    }
   ],
   "source": [
    "@strong\n",
    "@bold\n",
    "def hello():\n",
    "    return \"hello\"\n",
    "print(hello())\n",
    "print(\"-------\")\n",
    "@bold\n",
    "@strong\n",
    "def hello():\n",
    "    return \"hello\"\n",
    "print(hello())"
   ]
  },
  {
   "cell_type": "code",
   "execution_count": 102,
   "metadata": {},
   "outputs": [
    {
     "name": "stdout",
     "output_type": "stream",
     "text": [
      "13\n"
     ]
    }
   ],
   "source": [
    "#decorator accepting arguments.\n",
    "'''\n",
    "def proxy(func):\n",
    "    def wrapper(*args, **kwargs):\n",
    "        return func(*args, **kwargs)\n",
    "    return wrapper   \n",
    "    \n",
    "    It uses the * and ** operators in the wrapper closure definition to collect all positional and keyword arguments \n",
    "        and stores them in variables(args and  kwargs)'''\n",
    "\n",
    "def add3(func):\n",
    "    def wrapper(*args,**kwargs):\n",
    "        return func(*args,**kwargs)+3\n",
    "    return wrapper\n",
    "\n",
    "@add3\n",
    "def sum(x,y):\n",
    "    return x+y\n",
    "\n",
    "print(sum(5,5))"
   ]
  },
  {
   "cell_type": "markdown",
   "metadata": {},
   "source": [
    "# Abstract Classes and Methods"
   ]
  },
  {
   "cell_type": "markdown",
   "metadata": {},
   "source": [
    "\n",
    "An abstract class can be considered as a blueprint for other classes, allows you to create a set of methods \n",
    "that must be created within any child classes built from your abstract class.\n",
    "A class which contains one or abstract methods is called an abstract class. \n",
    "\n",
    "An **abstract method** is a method that has declaration but not has any implementation. \n",
    "\n",
    "A class that is derived from an abstract class cannot be instantiated unless all of its \n",
    "abstract methods are overridden.\n",
    "\n",
    "Abstract classes allow you to provide default functionality for the subclasses. \n"
   ]
  },
  {
   "cell_type": "code",
   "execution_count": 103,
   "metadata": {},
   "outputs": [
    {
     "name": "stdout",
     "output_type": "stream",
     "text": [
      "3 sides\n",
      "4 sides\n"
     ]
    }
   ],
   "source": [
    "from abc import ABC, abstractmethod\n",
    "\n",
    "#\n",
    "class Polygon(ABC):\n",
    "    \n",
    "    @abstractmethod\n",
    "    def noofsides(self):\n",
    "        pass\n",
    "#now polygon subclasses like traingle,square etc all have side so noofsides must be overrided.\n",
    "\n",
    "class triangle(Polygon):\n",
    "    def noofsides(self):\n",
    "        print(\"3 sides\")\n",
    "        \n",
    "class square(Polygon):\n",
    "    def noofsides(self):\n",
    "        print(\"4 sides\")\n",
    "\n",
    "triangle = triangle()\n",
    "triangle.noofsides()\n",
    "\n",
    "square = square()\n",
    "square.noofsides()"
   ]
  },
  {
   "cell_type": "code",
   "execution_count": 104,
   "metadata": {},
   "outputs": [
    {
     "name": "stdout",
     "output_type": "stream",
     "text": [
      "9\n",
      "20\n"
     ]
    }
   ],
   "source": [
    "from abc import ABC, abstractmethod\n",
    " \n",
    "class math(ABC):\n",
    " \n",
    "    def __init__(self, x,y):\n",
    "        self.x = x\n",
    "        self.y=y\n",
    "        super().__init__()\n",
    "    \n",
    "    @abstractmethod\n",
    "    def domath(self):\n",
    "        pass\n",
    "    \n",
    "class add(math):\n",
    "    def domath(self):\n",
    "        return self.x + self.y\n",
    "    \n",
    "class mul(math):\n",
    "    def domath(self):\n",
    "        return self.x * self.y\n",
    "    \n",
    "add=add(4,5)\n",
    "print(add.domath())\n",
    "\n",
    "mul=mul(4,5)\n",
    "print(mul.domath())"
   ]
  },
  {
   "cell_type": "markdown",
   "metadata": {},
   "source": [
    "You may think that abstract methods can't be implemented in the abstract base class. This impression is wrong: An abstract method can have an implementation in the abstract class! Even if they are implemented, designers of subclasses will be forced to override the implementation. Like in other cases of \"normal\" inheritance, the abstract method can be invoked with super() call mechanism. This makes it possible to provide some basic functionality in the abstract method, which can be enriched by the subclass implementation."
   ]
  },
  {
   "cell_type": "code",
   "execution_count": 105,
   "metadata": {},
   "outputs": [
    {
     "name": "stdout",
     "output_type": "stream",
     "text": [
      "doing math on 4 and 5\n",
      "9\n",
      "doing math on 4 and 5\n",
      "20\n"
     ]
    }
   ],
   "source": [
    "from abc import ABC, abstractmethod\n",
    " \n",
    "class math(ABC):\n",
    " \n",
    "    def __init__(self, x,y):\n",
    "        self.x = x\n",
    "        self.y=y\n",
    "        super().__init__()\n",
    "    \n",
    "    @abstractmethod\n",
    "    def domath(self):\n",
    "        print(\"doing math on {} and {}\".format(self.x,self.y))\n",
    "    \n",
    "class add(math):\n",
    "    def domath(self):\n",
    "        super().domath()\n",
    "        return self.x + self.y\n",
    "    \n",
    "class mul(math):\n",
    "    def domath(self):\n",
    "        super().domath()\n",
    "        return self.x * self.y\n",
    "    \n",
    "add=add(4,5)\n",
    "print(add.domath())\n",
    "\n",
    "mul=mul(4,5)\n",
    "print(mul.domath())"
   ]
  },
  {
   "cell_type": "markdown",
   "metadata": {},
   "source": [
    "# Intresting Stuff"
   ]
  },
  {
   "cell_type": "code",
   "execution_count": 127,
   "metadata": {},
   "outputs": [
    {
     "name": "stdout",
     "output_type": "stream",
     "text": [
      "10\n",
      "hellohellohello\n"
     ]
    }
   ],
   "source": [
    "class String(str):\n",
    "    def __init__(self,x):\n",
    "        self.x=x\n",
    "    def __add__(self,other):\n",
    "        return String(len(self.x) + len(other.x))\n",
    "\n",
    "x = String(\"hello\")\n",
    "y = String(\"world\")\n",
    "\n",
    "print(x+y)\n",
    "print(x*3)\n",
    "#here we have changes the way string + works"
   ]
  },
  {
   "cell_type": "code",
   "execution_count": 137,
   "metadata": {},
   "outputs": [
    {
     "name": "stdout",
     "output_type": "stream",
     "text": [
      "24\n",
      "6\n"
     ]
    }
   ],
   "source": [
    "class Integer(int):\n",
    "    def __init__(self,x):\n",
    "        self.x=x\n",
    "    def __add__(self,other):\n",
    "        return Integer(str(self.x)+str(other))\n",
    "    def __mul__(self,other):\n",
    "        return Integer(self.x + other)\n",
    "    \n",
    "x = Integer(2)\n",
    "y = Integer(4)\n",
    "\n",
    "print(x+y)\n",
    "print(x*y)"
   ]
  }
 ],
 "metadata": {
  "kernelspec": {
   "display_name": "Python 3",
   "language": "python",
   "name": "python3"
  },
  "language_info": {
   "codemirror_mode": {
    "name": "ipython",
    "version": 3
   },
   "file_extension": ".py",
   "mimetype": "text/x-python",
   "name": "python",
   "nbconvert_exporter": "python",
   "pygments_lexer": "ipython3",
   "version": "3.6.8"
  }
 },
 "nbformat": 4,
 "nbformat_minor": 2
}
