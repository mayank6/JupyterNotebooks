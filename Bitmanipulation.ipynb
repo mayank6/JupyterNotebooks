{
 "cells": [
  {
   "cell_type": "code",
   "execution_count": null,
   "metadata": {},
   "outputs": [],
   "source": [
    "\"\"\"\n",
    "Bitwise Manipulation\n",
    "1. Left Shift\n",
    "        -Shift the bit to left by n , here n = 2\n",
    "            ex- 1000110(70) << 2 = 100011000(280)\n",
    "            or ,1000(8) << 2 = 100000 = 8 X (2 X 2) n time multiply ny 2\n",
    "            or ,1000(8) << 1 = 10000 = 8 X (2) 1 time multiply by 2\n",
    "            \n",
    "2. Right Shift\n",
    "        -Shift the bit to right by n , here n = 2\n",
    "            ex- 1000110 >> 2 = 10001(17)\n",
    "            or ,1000(8) >> 2 = 10(2) = 8 / (2 X 2) n time divide by 2 (floor value)\n",
    "            or ,1000(8) >> 1 = 100(4) = 8 / (2) 1 time divide by 2    (floor value)\n",
    "\n",
    "3. XOR operator (a ^ b) \n",
    "        - 1 ^ 1 = 0\n",
    "        - 1 ^ 0 = 1\n",
    "        - 0 ^ 1 = 1\n",
    "        - 0 ^ 0 = 0\n",
    "        \n",
    "4. 1's compliment (~a)\n",
    "\n",
    "5. 2's compliment (~a+1) == (-a)\n",
    "\"\"\""
   ]
  },
  {
   "cell_type": "code",
   "execution_count": 7,
   "metadata": {},
   "outputs": [
    {
     "name": "stdout",
     "output_type": "stream",
     "text": [
      "13\n"
     ]
    }
   ],
   "source": [
    "#setting a bit and unsetting a bit in a number at nth position.\n",
    "\n",
    "#setting a bit in a number at nth position.\n",
    "\n",
    "\"\"\"\n",
    "Here, position shift means 1<<2=100 and 9 = 1001\n",
    "so , or of both = (1001 | 100 = 1101(13)) \n",
    "\"\"\"\n",
    "number = 9\n",
    "n=2\n",
    "positionshift = 1<<n\n",
    "newnumber = number | positionshift\n",
    "print(newnumber)"
   ]
  },
  {
   "cell_type": "code",
   "execution_count": 6,
   "metadata": {},
   "outputs": [
    {
     "name": "stdout",
     "output_type": "stream",
     "text": [
      "9\n"
     ]
    }
   ],
   "source": [
    "#unsetting a bit in a number at nth position\n",
    "\"\"\"\n",
    "Here, position shift means (1<<2=100) and (~100 = 1111111111111111111111111111011) 13 = 1101\n",
    "so , and of both = (1111111111111111111111111111011 & 00000000000000000000000000001101 = 1001(9)) \n",
    "\"\"\"\n",
    "newnumber=13\n",
    "n=2\n",
    "positionshift = 1<<n\n",
    "invertpositionshift = ~positionshift\n",
    "number = invertpositionshift & newnumber\n",
    "print(number)"
   ]
  },
  {
   "cell_type": "code",
   "execution_count": 9,
   "metadata": {},
   "outputs": [
    {
     "name": "stdout",
     "output_type": "stream",
     "text": [
      "9\n"
     ]
    }
   ],
   "source": [
    "#toggle the bit in a number at nth position\n",
    "\"\"\"\n",
    "for 13\n",
    "Here, position shift means (1<<2=100) and (0100 ^ 1101 = 1001(9))\n",
    "for 9\n",
    "Here, position shift means (1<<2=100) and (0100 ^ 1001 = 1101(13))\n",
    "\"\"\"\n",
    "number = 13 #change value to 9 and 13 see the toggling\n",
    "n=2\n",
    "positionshift = 1<<n\n",
    "newnumber = number ^ positionshift\n",
    "print(newnumber)"
   ]
  },
  {
   "cell_type": "code",
   "execution_count": 21,
   "metadata": {},
   "outputs": [
    {
     "name": "stdout",
     "output_type": "stream",
     "text": [
      "0\n"
     ]
    }
   ],
   "source": [
    "#check if nth bit is on or off\n",
    "\"\"\"\n",
    "first check on 2 position and than check on 3 position\n",
    "on 2 = 0\n",
    "on 3 = 1 (integer gt 0 imply bit is 1)\n",
    "\"\"\"\n",
    "newnumber=10\n",
    "n=2\n",
    "positionshift = 1<<n\n",
    "number = positionshift & newnumber\n",
    "print(number)"
   ]
  },
  {
   "cell_type": "code",
   "execution_count": 22,
   "metadata": {},
   "outputs": [
    {
     "name": "stdout",
     "output_type": "stream",
     "text": [
      "8\n"
     ]
    }
   ],
   "source": [
    "#removing lowest set bit\n",
    "#like 1100(12) should be 1000(8)\n",
    "x = 12\n",
    "x = x & (x-1)\n",
    "print(x)"
   ]
  },
  {
   "cell_type": "code",
   "execution_count": 23,
   "metadata": {},
   "outputs": [
    {
     "name": "stdout",
     "output_type": "stream",
     "text": [
      "4\n"
     ]
    }
   ],
   "source": [
    "#only lowest bit set\n",
    "#like 1100100 should be 100(4)\n",
    "x = int(\"1100100\",2)\n",
    "x = x & (-x)\n",
    "print(x)"
   ]
  },
  {
   "cell_type": "code",
   "execution_count": 29,
   "metadata": {},
   "outputs": [
    {
     "name": "stdout",
     "output_type": "stream",
     "text": [
      "80\n"
     ]
    }
   ],
   "source": [
    "#here little bit confusion will arise becasue of index as here 0 to n-1\n",
    "#clear all bit to nth point from LSB \n",
    "#like 1011111(95) if 3rd  point it should be 1010000(80)\n",
    "\"\"\"\n",
    "Now 1011111 & 1111000 will give ans\n",
    "how to find this 1111000\n",
    "1>>3+1 = 00010000 => 00010000-1 = 0001111 => {{1110000}} =~0001111\n",
    "finally & with ans\n",
    "\"\"\"\n",
    "x=95\n",
    "temp = 1<<3+1\n",
    "temp = temp-1\n",
    "temp = ~temp\n",
    "ans = x & temp\n",
    "print(ans)"
   ]
  },
  {
   "cell_type": "code",
   "execution_count": 33,
   "metadata": {},
   "outputs": [
    {
     "name": "stdout",
     "output_type": "stream",
     "text": [
      "15\n"
     ]
    }
   ],
   "source": [
    "#clear all bit to nth point from MSB\n",
    "#like 1011111(95) if 4th point it should be 0001111(15) 4th last 4 will left\n",
    "\"\"\"\n",
    "Now 1011111 & 0001111 will give ans\n",
    "how to find this 0001111\n",
    "1>>4 = 00010000 => 00010000-1 = {{ 0001111 }}\n",
    "finally & with ans\n",
    "\"\"\"\n",
    "x=95\n",
    "temp = 1<<4\n",
    "temp = temp-1\n",
    "ans = x & temp\n",
    "print(ans)"
   ]
  },
  {
   "cell_type": "code",
   "execution_count": 36,
   "metadata": {},
   "outputs": [
    {
     "name": "stdout",
     "output_type": "stream",
     "text": [
      "0\n"
     ]
    }
   ],
   "source": [
    "#checking if int is power of 2 or not\n",
    "#16 is power of 2 ,,15 is not\n",
    "\"\"\"\n",
    "16 = 0010000 => 0010000-1 = 0001111 => 0001111 & 0010000 = 0 so if 0 it is powerOf2\n",
    "\"\"\"\n",
    "x = 16\n",
    "temp = x-1\n",
    "ans = x & temp\n",
    "print(ans)"
   ]
  },
  {
   "cell_type": "code",
   "execution_count": 41,
   "metadata": {},
   "outputs": [
    {
     "name": "stdout",
     "output_type": "stream",
     "text": [
      "3\n"
     ]
    }
   ],
   "source": [
    "#count no. of set bits in a integer \n",
    "#2 efficient approach\n",
    "\"\"\"\n",
    "1.brain kernigans.\n",
    "here \n",
    "9=1001 while minus 1 make 1000 1000&1001=1000 now minus 1 is 0111 which 1000&0111 terminate the loop\n",
    "\"\"\"\n",
    "x=11\n",
    "c=0\n",
    "while(x):\n",
    "    x=x&(x-1)\n",
    "    c+=1\n",
    "print(c)"
   ]
  },
  {
   "cell_type": "code",
   "execution_count": 49,
   "metadata": {
    "scrolled": true
   },
   "outputs": [
    {
     "name": "stdout",
     "output_type": "stream",
     "text": [
      "3\n"
     ]
    }
   ],
   "source": [
    "\"\"\"\n",
    "2.Lookup approach\n",
    "In this we mainaned a 4 group int counts \n",
    "\"\"\"\n",
    "a=[0,1,1,2,1,2,2,3,1,2,2,3,2,3,3,4]\n",
    "x=11\n",
    "def ans(num): \n",
    "    nibble = 0; \n",
    "    if(0 == num): \n",
    "        return a[0]; \n",
    "    nibble = num & 15; \n",
    "    return a[nibble] + ans(num >> 4);  \n",
    "   \n",
    "print(ans(x))"
   ]
  },
  {
   "cell_type": "code",
   "execution_count": 54,
   "metadata": {},
   "outputs": [
    {
     "name": "stdout",
     "output_type": "stream",
     "text": [
      "1\n"
     ]
    }
   ],
   "source": [
    "#compute xor of 1 to n integer\n",
    "def ans(n): \n",
    "    if (n % 4 == 0): \n",
    "        return n; \n",
    "    if (n % 4 == 1):\n",
    "        return 1; \n",
    "    if (n % 4 == 2):\n",
    "        return n + 1; \n",
    "    else:\n",
    "        return 0; \n",
    "print(ans(9))"
   ]
  },
  {
   "cell_type": "code",
   "execution_count": 56,
   "metadata": {},
   "outputs": [],
   "source": [
    "#Given a positive integer n, find count of positive integers i such that 0 <= i <= n and n+i = n^i\n",
    "#ans = 2**(no. of zero in given input)\n",
    "\n",
    "#tip\n",
    "#XOR of XOR's of all subsets is 0 {1,2} => [{1},{2},{1,2}]"
   ]
  },
  {
   "cell_type": "code",
   "execution_count": 59,
   "metadata": {},
   "outputs": [
    {
     "name": "stdout",
     "output_type": "stream",
     "text": [
      "Yes\n"
     ]
    }
   ],
   "source": [
    "#checking for alternate bits\n",
    "x=int(\"101010\",2)\n",
    "y=x>>1\n",
    "ans=x^y #ans will be 111111 if alternate\n",
    "if (ans+1) & ans==0:\n",
    "    print(\"Yes\")\n",
    "else:\n",
    "    print(\"NO\")"
   ]
  },
  {
   "cell_type": "code",
   "execution_count": 60,
   "metadata": {},
   "outputs": [],
   "source": [
    "#for characters do same with ascii value."
   ]
  },
  {
   "cell_type": "code",
   "execution_count": null,
   "metadata": {},
   "outputs": [],
   "source": [
    "#generate all subsets [1,2,3] => [{1},{2},{3},{1,2},{2,3},{1,3},{1,2,3}]\n",
    "#bit masking"
   ]
  }
 ],
 "metadata": {
  "kernelspec": {
   "display_name": "Python 3",
   "language": "python",
   "name": "python3"
  },
  "language_info": {
   "codemirror_mode": {
    "name": "ipython",
    "version": 3
   },
   "file_extension": ".py",
   "mimetype": "text/x-python",
   "name": "python",
   "nbconvert_exporter": "python",
   "pygments_lexer": "ipython3",
   "version": "3.6.8"
  }
 },
 "nbformat": 4,
 "nbformat_minor": 2
}
